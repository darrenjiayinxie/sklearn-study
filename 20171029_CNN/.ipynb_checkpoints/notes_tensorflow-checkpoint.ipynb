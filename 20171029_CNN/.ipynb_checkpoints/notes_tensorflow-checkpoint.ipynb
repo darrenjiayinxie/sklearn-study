{
 "cells": [
  {
   "cell_type": "markdown",
   "metadata": {},
   "source": [
    "# Notes of Tensorflow\n",
    "\n",
    "By: Haiyang Yu, 10/29/2017, yhyoscar@gmail.com\n",
    "\n",
    "Contents\n",
    "\n",
    "1. Introduction\n",
    "2. Install Tensorflow\n",
    "3. Basic commands\n",
    "4. Case study: MNIST   \n",
    "5. Case study: Kaggle project\n"
   ]
  },
  {
   "cell_type": "markdown",
   "metadata": {},
   "source": [
    "## 1. Introduction\n",
    "\n",
    "https://www.tensorflow.org/\n",
    "\n",
    "TensorFlow™ is an open source software library for numerical computation using data flow graphs. Nodes in the graph represent mathematical operations, while the graph edges represent the multidimensional data arrays (tensors) communicated between them. The flexible architecture allows you to deploy computation to one or more CPUs or GPUs in a desktop, server, or mobile device with a single API. TensorFlow was originally developed by researchers and engineers working on the Google Brain Team within Google's Machine Intelligence research organization for the purposes of conducting machine learning and deep neural networks research, but the system is general enough to be applicable in a wide variety of other domains as well.\n",
    "\n",
    "Why Tensorflow:\n",
    "1. Handle matrix with GPU: To do efficient numerical computing in Python, we typically use libraries like NumPy that do expensive operations such as matrix multiplication outside Python, using highly efficient code implemented in another language (e.g. Fortran). Unfortunately, there can still be a lot of overhead from switching back to Python every operation. This overhead is especially bad if you want to run computations on GPUs or in a distributed manner, where there can be a high cost to transferring data.\n",
    "TensorFlow also does its heavy lifting outside Python, but it takes things a step further to avoid this overhead. Instead of running a single expensive operation independently from Python, TensorFlow lets us describe a graph of interacting operations that run entirely outside Python. This approach is similar to that used in Theano or Torch.\n",
    "The role of the Python code is therefore to build this external computation graph, and to dictate which parts of the computation graph should be run.\n",
    "\n",
    "2. Well designed specifically for CNN\n",
    "\n",
    "3. Open source\n",
    "\n",
    "<img src=\"ctrlflow.png\">\n",
    "\n",
    "## 2. Install Tensorflow\n",
    "\n",
    "https://www.tensorflow.org/install/"
   ]
  },
  {
   "cell_type": "code",
   "execution_count": 1,
   "metadata": {
    "collapsed": false
   },
   "outputs": [
    {
     "name": "stdout",
     "output_type": "stream",
     "text": [
      "Hello, TensorFlow!\n"
     ]
    }
   ],
   "source": [
    "# Test of Tensorflow\n",
    "import tensorflow as tf\n",
    "\n",
    "hello = tf.constant('Hello, TensorFlow!')\n",
    "sess = tf.Session()\n",
    "print(sess.run(hello))\n"
   ]
  },
  {
   "cell_type": "markdown",
   "metadata": {},
   "source": [
    "## 3. Basic commands\n",
    "\n",
    "tf.constant\n",
    "\n",
    "tf.Variable\n",
    "\n",
    "tf.placeholder\n",
    "\n",
    "tf.add\n",
    "\n",
    "tf.square\n",
    "\n",
    "tf.reduce_sum\n",
    "\n",
    "tf.assign\n",
    "\n",
    "tf.Session (tf.Session.run)\n",
    "\n",
    "tf.global_variables_initializer()\n",
    "\n",
    "tf.train (tf.train.GradientDescentOptimizer; tf.train.GradientDescentOptimizer.minimize)\n",
    "\n",
    "tensorboard"
   ]
  },
  {
   "cell_type": "code",
   "execution_count": 7,
   "metadata": {
    "collapsed": false
   },
   "outputs": [
    {
     "name": "stdout",
     "output_type": "stream",
     "text": [
      "Tensor(\"Const_5:0\", shape=(), dtype=float32)\n",
      "Tensor(\"Const_6:0\", shape=(), dtype=float32)\n"
     ]
    }
   ],
   "source": [
    "node1 = tf.constant(3.0, dtype=tf.float32)\n",
    "node2 = tf.constant(4.0) # also tf.float32 implicitly\n",
    "print node1\n",
    "print node2"
   ]
  },
  {
   "cell_type": "code",
   "execution_count": 8,
   "metadata": {
    "collapsed": false
   },
   "outputs": [
    {
     "name": "stdout",
     "output_type": "stream",
     "text": [
      "[3.0, 4.0]\n"
     ]
    }
   ],
   "source": [
    "sess = tf.Session()\n",
    "print sess.run([node1, node2])"
   ]
  },
  {
   "cell_type": "code",
   "execution_count": 9,
   "metadata": {
    "collapsed": false
   },
   "outputs": [
    {
     "name": "stdout",
     "output_type": "stream",
     "text": [
      "('node3:', <tf.Tensor 'Add_1:0' shape=() dtype=float32>)\n",
      "('sess.run(node3):', 7.0)\n"
     ]
    }
   ],
   "source": [
    "node3 = tf.add(node1, node2)\n",
    "print(\"node3:\", node3)\n",
    "print(\"sess.run(node3):\", sess.run(node3))"
   ]
  },
  {
   "cell_type": "code",
   "execution_count": 15,
   "metadata": {
    "collapsed": false
   },
   "outputs": [
    {
     "name": "stdout",
     "output_type": "stream",
     "text": [
      "7.5\n",
      "[ 3.  7.]\n"
     ]
    }
   ],
   "source": [
    "a = tf.placeholder(tf.float32)\n",
    "b = tf.placeholder(tf.float32)\n",
    "adder_node = a + b  # + provides a shortcut for tf.add(a, b)\n",
    "print(sess.run(adder_node, {a: 3, b: 4.5}))\n",
    "print(sess.run(adder_node, {a: [1, 3], b: [2, 4]}))"
   ]
  },
  {
   "cell_type": "code",
   "execution_count": 14,
   "metadata": {
    "collapsed": false
   },
   "outputs": [
    {
     "name": "stdout",
     "output_type": "stream",
     "text": [
      "3.0\n",
      "asdf\n"
     ]
    }
   ],
   "source": [
    "a = 'a'\n",
    "b = 3.0\n",
    "print b\n",
    "b = 'asdf'\n",
    "print b"
   ]
  },
  {
   "cell_type": "code",
   "execution_count": 18,
   "metadata": {
    "collapsed": false
   },
   "outputs": [
    {
     "name": "stdout",
     "output_type": "stream",
     "text": [
      "22.5\n",
      "22.5\n",
      "Tensor(\"mul_2:0\", dtype=float32)\n"
     ]
    }
   ],
   "source": [
    "add_and_triple = adder_node * 3.\n",
    "print sess.run(add_and_triple, {a: 3, b: 4.5})\n",
    "print  (3+4.5) * 3\n",
    "print add_and_triple"
   ]
  },
  {
   "cell_type": "code",
   "execution_count": 19,
   "metadata": {
    "collapsed": false
   },
   "outputs": [
    {
     "name": "stdout",
     "output_type": "stream",
     "text": [
      "<tf.Variable 'Variable:0' shape=(1,) dtype=float32_ref>\n",
      "<tf.Variable 'Variable_1:0' shape=(1,) dtype=float32_ref>\n"
     ]
    }
   ],
   "source": [
    "W = tf.Variable([0.3], dtype=tf.float32)\n",
    "b = tf.Variable([-0.3], dtype=tf.float32)\n",
    "print W\n",
    "print b"
   ]
  },
  {
   "cell_type": "code",
   "execution_count": 21,
   "metadata": {
    "collapsed": false
   },
   "outputs": [],
   "source": [
    "# sess.run does not work now:\n",
    "# print sess.run(W)"
   ]
  },
  {
   "cell_type": "code",
   "execution_count": 23,
   "metadata": {
    "collapsed": false
   },
   "outputs": [
    {
     "name": "stdout",
     "output_type": "stream",
     "text": [
      "[ 0.30000001] [-0.30000001]\n"
     ]
    }
   ],
   "source": [
    "sess.run(tf.global_variables_initializer())\n",
    "print sess.run(W), sess.run(b)"
   ]
  },
  {
   "cell_type": "code",
   "execution_count": 24,
   "metadata": {
    "collapsed": false
   },
   "outputs": [
    {
     "name": "stdout",
     "output_type": "stream",
     "text": [
      "[ 0.          0.30000001  0.60000002  0.90000004]\n"
     ]
    }
   ],
   "source": [
    "x = tf.placeholder(tf.float32)\n",
    "linear_model = W * x + b\n",
    "init = tf.global_variables_initializer()\n",
    "sess.run(init)\n",
    "print(sess.run(linear_model, {x: [1, 2, 3, 4]}))\n"
   ]
  },
  {
   "cell_type": "code",
   "execution_count": 27,
   "metadata": {
    "collapsed": false
   },
   "outputs": [
    {
     "name": "stdout",
     "output_type": "stream",
     "text": [
      "0.0\n",
      "23.66\n"
     ]
    }
   ],
   "source": [
    "import numpy as np\n",
    "fx = np.array([1,2,3,4])\n",
    "fy = np.array([0,-1,-2,-3])\n",
    "fw = 0.3; fb = -0.3\n",
    "\n",
    "y = tf.placeholder(tf.float32)\n",
    "squared_deltas = tf.square(linear_model - y)\n",
    "loss = tf.reduce_sum(squared_deltas)\n",
    "print(sess.run(loss, {x: fx, y: fy}))\n",
    "print np.sum((fw*fx+fb - fy)**2)\n"
   ]
  },
  {
   "cell_type": "code",
   "execution_count": 28,
   "metadata": {
    "collapsed": false
   },
   "outputs": [
    {
     "name": "stdout",
     "output_type": "stream",
     "text": [
      "0.0\n",
      "0.0\n"
     ]
    }
   ],
   "source": [
    "fixW = tf.assign(W, [-1.])\n",
    "fixb = tf.assign(b, [1.])\n",
    "sess.run([fixW, fixb])\n",
    "print(sess.run(loss, {x: fx, y: fy}))\n",
    "print np.sum(((-1)*fx+ 1.0 - fy)**2)\n"
   ]
  },
  {
   "cell_type": "code",
   "execution_count": 29,
   "metadata": {
    "collapsed": false
   },
   "outputs": [],
   "source": [
    "optimizer = tf.train.GradientDescentOptimizer(0.01)\n",
    "train = optimizer.minimize(loss)"
   ]
  },
  {
   "cell_type": "code",
   "execution_count": 30,
   "metadata": {
    "collapsed": false
   },
   "outputs": [
    {
     "name": "stdout",
     "output_type": "stream",
     "text": [
      "[array([-0.9999969], dtype=float32), array([ 0.99999082], dtype=float32)]\n"
     ]
    }
   ],
   "source": [
    "sess.run(init) # reset values to incorrect defaults.\n",
    "for i in range(1000):\n",
    "  sess.run(train, {x: [1, 2, 3, 4], y: [0, -1, -2, -3]})\n",
    "\n",
    "print(sess.run([W, b]))"
   ]
  },
  {
   "cell_type": "code",
   "execution_count": 34,
   "metadata": {
    "collapsed": false
   },
   "outputs": [
    {
     "name": "stdout",
     "output_type": "stream",
     "text": [
      "[-0.21999997] 4.01814\n",
      "[-0.39679998] 1.81987\n",
      "[-0.45961601] 1.54482\n",
      "[-0.48454273] 1.48251\n",
      "[-0.49684232] 1.4444\n",
      "[-0.50490189] 1.4097\n",
      "[-0.5115062] 1.3761\n",
      "[-0.51758033] 1.34334\n",
      "[-0.52343202] 1.31135\n",
      "[-0.52916396] 1.28013\n"
     ]
    }
   ],
   "source": [
    "import tensorflow as tf\n",
    "\n",
    "# Model parameters\n",
    "W = tf.Variable([.3], dtype=tf.float32)\n",
    "b = tf.Variable([-.3], dtype=tf.float32)\n",
    "# Model input and output\n",
    "x = tf.placeholder(tf.float32)\n",
    "linear_model = W * x + b\n",
    "y = tf.placeholder(tf.float32)\n",
    "\n",
    "# loss\n",
    "loss = tf.reduce_sum(tf.square(linear_model - y)) # sum of the squares\n",
    "# optimizer\n",
    "model = tf.train.GradientDescentOptimizer(0.01).minimize(loss)\n",
    "\n",
    "# training data\n",
    "x_train = [1, 2, 3, 4]\n",
    "y_train = [0, -1, -2, -3]\n",
    "\n",
    "# training loop\n",
    "with tf.Session() as sess:\n",
    "    sess.run(tf.global_variables_initializer()) \n",
    "    for i in range(10):\n",
    "        sess.run(model, {x: x_train, y: y_train})\n",
    "        testlost = loss.eval({x: x_train, y: y_train})\n",
    "        print sess.run(W), testlost\n",
    "# evaluate training accuracy\n",
    "#curr_W, curr_b, curr_loss = sess.run([W, b, loss], {x: x_train, y: y_train})\n",
    "#print(\"W: %s b: %s loss: %s\"%(curr_W, curr_b, curr_loss))"
   ]
  },
  {
   "cell_type": "markdown",
   "metadata": {
    "collapsed": false
   },
   "source": [
    "### Tensorboard\n",
    "    \n",
    "> python test_tensorboard.py\n",
    "\n",
    "This program will generate a log file of the structure of the model.\n",
    "\n",
    "> tensorboard --logdir=./ --port 6006\n",
    "\n",
    "Then, open the link it provide: http://***.home:6006"
   ]
  },
  {
   "cell_type": "markdown",
   "metadata": {
    "collapsed": true
   },
   "source": [
    "## 4. Case study: MNIST\n",
    "\n",
    "MNIST: Database of handwritten digits, with a training set of 60,000 examples, and a test set of 10,000 examples. Each image has the same resolution: 28\\*28\\*1 (gray color scale).\n",
    "\n",
    "MNIST is the \"Hello World!\" program for machine learning field.\n",
    "\n",
    "Download the data:\n",
    "http://yann.lecun.com/exdb/mnist/\n",
    "\n",
    "There is a brief description of the data on the Tensorflow website:\n",
    "https://www.tensorflow.org/get_started/mnist/beginners\n",
    "\n",
    "There is also a competetion of MNIST on the Kaggle website:\n",
    "https://www.kaggle.com/c/digit-recognizer\n",
    "\n",
    "The example python programs: \n",
    "> test_mycnn.py\n",
    "\n",
    "> test_mnist_plotw.py"
   ]
  },
  {
   "cell_type": "code",
   "execution_count": 35,
   "metadata": {
    "collapsed": false
   },
   "outputs": [
    {
     "name": "stdout",
     "output_type": "stream",
     "text": [
      "Extracting /Users/Oscar/yhy/Work/kaggle/mnist/data/train-images-idx3-ubyte.gz\n",
      "Extracting /Users/Oscar/yhy/Work/kaggle/mnist/data/train-labels-idx1-ubyte.gz\n",
      "Extracting /Users/Oscar/yhy/Work/kaggle/mnist/data/t10k-images-idx3-ubyte.gz\n",
      "Extracting /Users/Oscar/yhy/Work/kaggle/mnist/data/t10k-labels-idx1-ubyte.gz\n"
     ]
    }
   ],
   "source": [
    "from tensorflow.examples.tutorials.mnist import input_data\n",
    "mnist = input_data.read_data_sets('/Users/Oscar/yhy/Work/kaggle/mnist/data/', \\\n",
    "                                  one_hot=True)"
   ]
  },
  {
   "cell_type": "code",
   "execution_count": 2,
   "metadata": {
    "collapsed": false
   },
   "outputs": [
    {
     "data": {
      "text/plain": [
       "<matplotlib.text.Text at 0x1157b1f90>"
      ]
     },
     "execution_count": 2,
     "metadata": {},
     "output_type": "execute_result"
    },
    {
     "data": {
      "image/png": "[encoded data removed]",
      "text/plain": [
       "<matplotlib.figure.Figure at 0x115035050>"
      ]
     },
     "metadata": {},
     "output_type": "display_data"
    }
   ],
   "source": [
    "import matplotlib \n",
    "%matplotlib inline\n",
    "import matplotlib.pyplot as plt\n",
    "\n",
    "i = 13201\n",
    "plt.imshow(mnist.train.images[i].reshape([28,28]), \\\n",
    "           interpolation='None', cmap='gray')\n",
    "plt.title(mnist.train.labels[i])\n"
   ]
  },
  {
   "cell_type": "code",
   "execution_count": 5,
   "metadata": {
    "collapsed": false
   },
   "outputs": [
    {
     "name": "stdout",
     "output_type": "stream",
     "text": [
      "w,b:  (5, 5, 1, 3) (3,)\n",
      "layer:  Tensor(\"Relu:0\", shape=(?, 28, 28, 3), dtype=float32)\n",
      "layer:  Tensor(\"MaxPool:0\", shape=(?, 7, 7, 3), dtype=float32)\n",
      "w,b:  (7, 7, 3, 6) (6,)\n",
      "layer:  Tensor(\"Relu_1:0\", shape=(?, 7, 7, 6), dtype=float32)\n",
      "layer:  Tensor(\"MaxPool_1:0\", shape=(?, 3, 3, 6), dtype=float32)\n",
      "layer:  Tensor(\"Reshape_1:0\", shape=(?, 54), dtype=float32)\n",
      "w,b:  (54, 20) (20,)\n",
      "layer:  Tensor(\"dropout/mul:0\", shape=(?, 20), dtype=float32)\n",
      "w,b:  (20, 10) (10,)\n",
      "layer:  Tensor(\"add_4:0\", shape=(?, 10), dtype=float32)\n"
     ]
    }
   ],
   "source": [
    "nx = 28; ny = 28; nchannel = 1; nlabel = 10\n",
    "\n",
    "cnum    = [3, 6]     # convolutional layer filters\n",
    "csize   = [5, 7]     # filter size\n",
    "cstride = [1, 1]     # filter stride\n",
    "psize   = [4, 2]     # pooling size\n",
    "pstride = [4, 2]     # pooling stride\n",
    "\n",
    "fnum  = [20]       # full connected layer\n",
    "pkeep = 1.0     # drop out: keep probability\n",
    "\n",
    "#------------------------------------------------------------------------\n",
    "nconv = len(cnum)\n",
    "nfull = len(fnum)\n",
    "\n",
    "x = tf.placeholder(tf.float32, [None, nx*ny*nchannel])\n",
    "y = tf.placeholder(tf.float32, [None, nlabel])\n",
    "keep_prob = tf.placeholder(tf.float32) \n",
    "\n",
    "#------------------------------------------------------------------------\n",
    "layer = [ tf.reshape(x, [-1, nx, ny, nchannel]) ]\n",
    "w = []; b = []\n",
    "k = 0\n",
    "for i in range(nconv):\n",
    "    if i==0: nfilter = nchannel\n",
    "    else:    nfilter = cnum[i-1]\n",
    "    w.append( tf.Variable(tf.truncated_normal([csize[i], csize[i], nfilter, cnum[i]], stddev=0.1)) )\n",
    "    b.append( tf.Variable(tf.constant(0.1, shape=[cnum[i]])) )\n",
    "    print 'w,b: ', w[-1].shape, b[-1].shape\n",
    "    layer.append( tf.nn.relu(tf.nn.conv2d(layer[k], w[i], strides=[1, cstride[i], cstride[i], 1], padding='SAME') + b[i]) )\n",
    "    k += 1\n",
    "    print 'layer: ', layer[-1]\n",
    "    layer.append( tf.nn.max_pool(layer[k], ksize=[1, psize[i], psize[i], 1], strides=[1, pstride[i], pstride[i], 1], padding='VALID') )\n",
    "    k += 1\n",
    "    print 'layer: ', layer[-1]\n",
    "\n",
    "nlast = int(layer[k].shape[-1]*layer[k].shape[-2]*layer[k].shape[-3])\n",
    "layer.append( tf.reshape(layer[k], [-1, nlast]) )\n",
    "k += 1\n",
    "print 'layer: ', layer[-1]\n",
    "\n",
    "for i in range(nfull):\n",
    "    if i==0: nnode = nlast\n",
    "    else:    nnode = fnum[i-1]\n",
    "    w.append( tf.Variable(tf.truncated_normal([nnode, fnum[i]], stddev=0.1)) )\n",
    "    b.append( tf.Variable(tf.constant(0.1, shape=[fnum[i]])) )\n",
    "    print 'w,b: ', w[-1].shape, b[-1].shape\n",
    "    layer.append(tf.nn.dropout(tf.nn.relu(tf.matmul(layer[k], w[-1]) + b[-1]) , keep_prob ) )\n",
    "    k += 1\n",
    "    print 'layer: ', layer[-1]\n",
    "\n",
    "w.append( tf.Variable(tf.truncated_normal([fnum[-1], nlabel], stddev=0.1)) )\n",
    "b.append( tf.Variable(tf.constant(0.1, shape=[nlabel])) )\n",
    "print 'w,b: ', w[-1].shape, b[-1].shape\n",
    "layer.append( tf.matmul(layer[k], w[-1]) + b[-1] )\n",
    "print 'layer: ', layer[-1]\n",
    "\n",
    "error = tf.reduce_mean(tf.nn.softmax_cross_entropy_with_logits(labels=y, logits=layer[-1]))\n",
    "model = tf.train.AdamOptimizer(1e-2).minimize(error)\n",
    "accuracy = tf.reduce_mean(tf.cast(tf.equal(tf.argmax(layer[-1], axis=1), tf.argmax(y, axis=1)), tf.float32))\n",
    "#tf.summary.FileWriter('./', graph=tf.get_default_graph())\n"
   ]
  },
  {
   "cell_type": "code",
   "execution_count": 15,
   "metadata": {
    "collapsed": true
   },
   "outputs": [],
   "source": [
    "def fplotw(data, ifig=1, ffig=''):\n",
    "    if len(ffig)>0:\n",
    "        matplotlib.use('Agg')\n",
    "        \n",
    "    ndim = len(data.shape)\n",
    "    if ndim == 2: \n",
    "        plt.figure(ifig, figsize=(data.shape[1]/4.0,data.shape[0]/4.0))\n",
    "        nrow = 1; ncol = 1\n",
    "        data = data.reshape([data.shape[0], data.shape[1], 1, 1])\n",
    "    if ndim == 4: \n",
    "        plt.figure(ifig, figsize=(data.shape[2]*2,data.shape[3]*2))\n",
    "        nrow = data.shape[3]; ncol = data.shape[2]\n",
    "    for i in range(nrow):\n",
    "        for j in range(ncol):\n",
    "            plt.subplot(nrow,ncol,i*ncol+j+1)\n",
    "            plt.imshow(data[:,:,j,i], interpolation = 'None', cmap='gray')\n",
    "            plt.axis('off')\n",
    "    plt.tight_layout()\n",
    "    plt.savefig(ffig)\n",
    "    if len(ffig)>0: plt.close(ifig)\n",
    "    return\n"
   ]
  },
  {
   "cell_type": "code",
   "execution_count": 16,
   "metadata": {
    "collapsed": false
   },
   "outputs": [
    {
     "name": "stdout",
     "output_type": "stream",
     "text": [
      "step:  0 , accuracy:  0.0542 , time:  1.97933506966\n"
     ]
    },
    {
     "data": {
      "image/png": "[encoded data removed]",
      "text/plain": [
       "<matplotlib.figure.Figure at 0x11d790e50>"
      ]
     },
     "metadata": {},
     "output_type": "display_data"
    },
    {
     "data": {
      "image/png": "[encoded data removed]",
      "text/plain": [
       "<matplotlib.figure.Figure at 0x119da1b90>"
      ]
     },
     "metadata": {},
     "output_type": "display_data"
    },
    {
     "data": {
      "image/png": "[encoded data removed]",
      "text/plain": [
       "<matplotlib.figure.Figure at 0x11815c650>"
      ]
     },
     "metadata": {},
     "output_type": "display_data"
    },
    {
     "data": {
      "image/png": "[encoded data removed]",
      "text/plain": [
       "<matplotlib.figure.Figure at 0x11d826350>"
      ]
     },
     "metadata": {},
     "output_type": "display_data"
    }
   ],
   "source": [
    "from time import time as timer\n",
    "import numpy as np\n",
    "%matplotlib inline\n",
    "\n",
    "nbatch = 1000\n",
    "\n",
    "with tf.Session() as sess:\n",
    "    sess.run(tf.global_variables_initializer())\n",
    "    t0 = timer()\n",
    "    for i in range(1):\n",
    "        batch = mnist.train.next_batch(nbatch)\n",
    "        #ac = accuracy.eval(feed_dict={x:batch[0], y:batch[1], keep_prob:1.0})\n",
    "        ac = accuracy.eval(feed_dict={x:mnist.test.images, y:mnist.test.labels, keep_prob:1.0})\n",
    "        t1 = timer()\n",
    "        print 'step: ', i, ', accuracy: ', ac, ', time: ', t1-t0\n",
    "        t0 = timer()        \n",
    "        model.run(feed_dict={x:batch[0], y:batch[1], keep_prob:pkeep})\n",
    "        \n",
    "        for iw in range(len(w)):\n",
    "            data = sess.run(w[iw])\n",
    "            #fplotw(data, ifig=iw+1, ffig='../figures/test_t'+format(i+1,'06')+'_w'+format(iw+1)+'.png')\n",
    "            fplotw(data, ifig=iw+1, ffig='')\n",
    "        "
   ]
  },
  {
   "cell_type": "markdown",
   "metadata": {},
   "source": [
    "## 5. Case study: Kaggle project\n",
    "\n",
    "See the programs on the server:\n",
    "> ssh oscar@129.49.67.246\n",
    "\n",
    "> cd /disk2/yhy/Work/kaggle/psac/pypros"
   ]
  },
  {
   "cell_type": "code",
   "execution_count": null,
   "metadata": {
    "collapsed": true
   },
   "outputs": [],
   "source": []
  }
 ],
 "metadata": {
  "kernelspec": {
   "display_name": "Python 2",
   "language": "python",
   "name": "python2"
  },
  "language_info": {
   "codemirror_mode": {
    "name": "ipython",
    "version": 2
   },
   "file_extension": ".py",
   "mimetype": "text/x-python",
   "name": "python",
   "nbconvert_exporter": "python",
   "pygments_lexer": "ipython2",
   "version": "2.7.10"
  }
 },
 "nbformat": 4,
 "nbformat_minor": 0
}
