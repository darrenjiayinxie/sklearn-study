{
 "cells": [
  {
   "cell_type": "code",
   "execution_count": 61,
   "metadata": {
    "collapsed": false
   },
   "outputs": [],
   "source": [
    "import numpy as np\n",
    "import pandas as pd\n",
    "from IPython.display import display"
   ]
  },
  {
   "cell_type": "code",
   "execution_count": 59,
   "metadata": {
    "collapsed": false
   },
   "outputs": [],
   "source": [
    "# The great common divisor\n",
    "def gcd(a=1, b=1):\n",
    "    a,b = abs(a), abs(b)\n",
    "    q = a//b\n",
    "    r = a%b\n",
    "    if r == 0:\n",
    "        return b\n",
    "    else:\n",
    "        return gcd(a=b, b=r)\n",
    "\n",
    "# Euclidean algorithm\n",
    "def eucl(a=1, b=1):\n",
    "    a,b = abs(a), abs(b)\n",
    "    ep = []\n",
    "    flag = True\n",
    "    while (flag):\n",
    "        q = a//b\n",
    "        r = a%b\n",
    "        ep.append([a, b, q, r])\n",
    "        a = b\n",
    "        b = r\n",
    "        if r == 0: \n",
    "            flag=False\n",
    "    return ep\n",
    "\n",
    "# Diophantine equation\n",
    "def dioph(a=1, b=1, c=1):\n",
    "    if c<0: a=-a; b=-b; c=-c\n",
    "    sa, sb = a/abs(a), b/abs(b)\n",
    "    a, b = abs(a), abs(b)    \n",
    "    d = gcd(a=a,b=b)\n",
    "    if not (c%d == 0):\n",
    "        print 'ERROR: no integer solution for ', a, b, c\n",
    "        return [0,0],[0,0]\n",
    "    else:\n",
    "        ep = eucl(a=a, b=b)\n",
    "        if len(ep) == 1:\n",
    "            x, y = [1, 1], [-ep[0][2]+c//d, -ep[0][2]]\n",
    "        else:\n",
    "            x, y = [1, sb*b//d], [-ep[-2][2], -sa*a//d]\n",
    "            if len(ep) > 2:\n",
    "                for i in range(len(ep))[::-1]:\n",
    "                    x[0], y[0] = y[0], x[0]-y[0]*ep[i][2]\n",
    "            x[0], y[0] = x[0]*c//d, y[0]*c//d\n",
    "        return [sa*x[0], sb*b//d], [sb*y[0], -sa*a//d]\n",
    "    \n",
    "# Chinese remainder theorem\n",
    "def crt(n=[3,5,7], r=[2,3,2]):\n",
    "    x = [[[] for i in n] for i in n]; y = [[[] for i in n] for i in n]\n",
    "    for i in range(len(n)):\n",
    "        x[0][i], y[0][i] = dioph(a=1, b=n[i], c=r[i])\n",
    "    for k in range(1, len(n)):\n",
    "        for i in range(len(n)-k):\n",
    "            x[k][i], y[k][i] = dioph(a=x[k-1][0][1], b=-x[k-1][i+1][1], c=x[k-1][i+1][0]-x[k-1][0][0])\n",
    "    z = x[-1][0]\n",
    "    for i in range(len(n)-1)[::-1]:\n",
    "        z = [z[0]*x[i][0][1] + x[i][0][0],  z[1]*x[i][0][1]]\n",
    "    if not (z[0]//z[1] == 0):\n",
    "        z[0] -= z[0]//z[1] * z[1]\n",
    "    return z\n"
   ]
  },
  {
   "cell_type": "code",
   "execution_count": 92,
   "metadata": {
    "collapsed": false
   },
   "outputs": [
    {
     "name": "stdout",
     "output_type": "stream",
     "text": [
      "gcd( 15 , 42 ) =  3\n",
      "Euclidean algorithm: \n"
     ]
    },
    {
     "data": {
      "text/html": [
       "<div>\n",
       "<style>\n",
       "    .dataframe thead tr:only-child th {\n",
       "        text-align: right;\n",
       "    }\n",
       "\n",
       "    .dataframe thead th {\n",
       "        text-align: left;\n",
       "    }\n",
       "\n",
       "    .dataframe tbody tr th {\n",
       "        vertical-align: top;\n",
       "    }\n",
       "</style>\n",
       "<table border=\"1\" class=\"dataframe\">\n",
       "  <thead>\n",
       "    <tr style=\"text-align: right;\">\n",
       "      <th></th>\n",
       "      <th>a</th>\n",
       "      <th>b</th>\n",
       "      <th>quotient</th>\n",
       "      <th>remainder</th>\n",
       "    </tr>\n",
       "  </thead>\n",
       "  <tbody>\n",
       "    <tr>\n",
       "      <th>1</th>\n",
       "      <td>15</td>\n",
       "      <td>42</td>\n",
       "      <td>0</td>\n",
       "      <td>15</td>\n",
       "    </tr>\n",
       "    <tr>\n",
       "      <th>2</th>\n",
       "      <td>42</td>\n",
       "      <td>15</td>\n",
       "      <td>2</td>\n",
       "      <td>12</td>\n",
       "    </tr>\n",
       "    <tr>\n",
       "      <th>3</th>\n",
       "      <td>15</td>\n",
       "      <td>12</td>\n",
       "      <td>1</td>\n",
       "      <td>3</td>\n",
       "    </tr>\n",
       "    <tr>\n",
       "      <th>4</th>\n",
       "      <td>12</td>\n",
       "      <td>3</td>\n",
       "      <td>4</td>\n",
       "      <td>0</td>\n",
       "    </tr>\n",
       "  </tbody>\n",
       "</table>\n",
       "</div>"
      ],
      "text/plain": [
       "    a   b  quotient  remainder\n",
       "1  15  42         0         15\n",
       "2  42  15         2         12\n",
       "3  15  12         1          3\n",
       "4  12   3         4          0"
      ]
     },
     "metadata": {},
     "output_type": "display_data"
    },
    {
     "name": "stdout",
     "output_type": "stream",
     "text": [
      "Equation:  15x+42y=6\n",
      "Solution: x=34+14k,  y=-12+(-5)k\n",
      "check: k= -2 , c =  6\n",
      "check: k= -1 , c =  6\n",
      "check: k= 0 , c =  6\n",
      "check: k= 1 , c =  6\n",
      "check: k= 2 , c =  6\n",
      "Chinese remainder theorem: \n",
      "  x = 2 (mod 3)\n",
      "  x = 3 (mod 5)\n",
      "  x = 2 (mod 7)\n",
      "Solution: x = 23+105k\n"
     ]
    }
   ],
   "source": [
    "a = 15; b = 42; c=6\n",
    "print 'gcd(', a, ',', b, ') = ', gcd(a, b)\n",
    "\n",
    "ep = eucl(a, b)\n",
    "df = pd.DataFrame(ep, index=range(1,len(ep)+1), columns=['a', 'b', 'quotient', 'remainder'])\n",
    "print 'Euclidean algorithm: '\n",
    "display(df)\n",
    "\n",
    "x, y = dioph(a = a, b = b, c = c)\n",
    "print 'Equation: ', format(a)+'x+'+format(b)+'y='+format(c)\n",
    "print 'Solution: x='+format(x[0])+'+'+format(x[1])+'k, ', \n",
    "print 'y='+format(y[0])+'+('+format(y[1])+')k'\n",
    "for k in range(-2, 3):\n",
    "    print 'check: k=', k ,', c = ', (x[0]+k*x[1]) * a + (y[0]+k*y[1]) * b\n",
    "\n",
    "print 'Chinese remainder theorem: '\n",
    "n = [3,5,7];  r = [2,3,2]\n",
    "x = crt(n=n, r=r)\n",
    "for i in range(len(n)):\n",
    "    print '  x = '+format(r[i])+' (mod '+format(n[i])+')'\n",
    "print 'Solution: x = '+format(x[0])+'+'+format(x[1])+'k'\n"
   ]
  },
  {
   "cell_type": "code",
   "execution_count": null,
   "metadata": {
    "collapsed": true
   },
   "outputs": [],
   "source": []
  }
 ],
 "metadata": {
  "kernelspec": {
   "display_name": "Python 2",
   "language": "python",
   "name": "python2"
  },
  "language_info": {
   "codemirror_mode": {
    "name": "ipython",
    "version": 2
   },
   "file_extension": ".py",
   "mimetype": "text/x-python",
   "name": "python",
   "nbconvert_exporter": "python",
   "pygments_lexer": "ipython2",
   "version": "2.7.13"
  }
 },
 "nbformat": 4,
 "nbformat_minor": 0
}
