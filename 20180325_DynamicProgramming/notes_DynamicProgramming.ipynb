{
 "cells": [
  {
   "cell_type": "markdown",
   "metadata": {},
   "source": [
    "# Notes of Dynamic Programming\n",
    "\n",
    "*Haiyang Yu, 2018-03-25*\n",
    "\n",
    "## 1. What is DP?\n",
    "\n",
    "+ Problem analysis: \n",
    "    - **Optimal substructure**: the solution to a given optimization problem can be obtained by the combination of optimal solutions to its sub-problems. Such optimal substructures are usually described by means of recursion.\n",
    "    - **Overlapping sub-problems**: any recursive algorithm solving the problem should solve the same sub-problems over and over, rather than generating new sub-problems.\n",
    "\n",
    "+ Problem solving: \n",
    "    - The key: **Decomposite** and **reuse (memoization)**\n",
    "    - Approach 1: Top-down (memoized recursion)\n",
    "    - Approach 2: Bottom-up (loops in size order: solve the smallest problem first, then the bigger ones)\n",
    "\n",
    "Reference: \n",
    "+ https://en.wikipedia.org/wiki/Dynamic_programming\n",
    "+ Thomas H. Cormen, et al., *Introduction to Algorithms*, Third Edition, 2009.\n",
    "\n",
    "## 2. Examples\n",
    "+ Fibonacci sequence\n",
    "+ Cut rod problem\n",
    "+ Checkboard\n",
    "+ Jobs scheduling\n",
    "+ Dice shrowing\n",
    "+ 0-1 Knapsack problem\n"
   ]
  },
  {
   "cell_type": "code",
   "execution_count": 1,
   "metadata": {},
   "outputs": [
    {
     "name": "stdout",
     "output_type": "stream",
     "text": [
      "method 1 : F(32) = 3524578 , time = 0.5018384456634521\n",
      "method 2 : F(32) = 3524578 , time = 9.775161743164062e-06\n",
      "method 3 : F(32) = 3524578 , time = 4.5299530029296875e-06\n"
     ]
    }
   ],
   "source": [
    "# Fibonacci sequence\n",
    "import time\n",
    "\n",
    "# 1. Naive recursion\n",
    "def fib1(n):\n",
    "    if n<=1: \n",
    "        return 1\n",
    "    else: \n",
    "        return fib1(n-1) + fib1(n-2)\n",
    "\n",
    "# 2. Recursion + memoization\n",
    "s = {}\n",
    "def fib2(n):\n",
    "    if n<=1:\n",
    "        s[n] = 1\n",
    "    else:\n",
    "        if n-1 in s:\n",
    "            v1 = s[n-1]\n",
    "        else:\n",
    "            v1 = fib3(n-1)\n",
    "        if n-2 in s:\n",
    "            v2 = s[n-2]\n",
    "        else:\n",
    "            v2 = fib3(n-2)\n",
    "        s[n] = v1 + v2\n",
    "    return s[n]\n",
    "\n",
    "# 3. Use loops instead of recursion (bottom-up)\n",
    "s0 = [1,1] + [None] * 1000\n",
    "def fib3(n):\n",
    "    for i in range(2, n+1):\n",
    "        s0[i] = s0[i-1] + s0[i-2]\n",
    "    return s0[n]\n",
    "\n",
    "n = 32\n",
    "for k in range(3):\n",
    "    t0 = time.time()\n",
    "    if k==0: x = fib1(n);\n",
    "    if k==1: x = fib2(n);\n",
    "    if k==2: x = fib3(n);\n",
    "    t1 = time.time()\n",
    "    print('method',k+1,': F('+format(n)+') =', x, ', time =', t1-t0)\n"
   ]
  },
  {
   "cell_type": "markdown",
   "metadata": {},
   "source": [
    "### Cut rod problem\n",
    "\n",
    "Given a rod of length $n$ inches and a table of prices $p_i$ for $i = 1, 2,..., n$, determine the maximum revenue $r_n$ obtainable by cutting up the rod and selling the pieces.\n",
    "\n",
    "**Solution**: \n",
    "\n",
    "recursive equation: $r_n = max(p_i+r_{n-i}: i=1,2,...,n)$, where $r_0 = 0$.\n"
   ]
  },
  {
   "cell_type": "code",
   "execution_count": 2,
   "metadata": {},
   "outputs": [
    {
     "data": {
      "text/html": [
       "<div>\n",
       "<style scoped>\n",
       "    .dataframe tbody tr th:only-of-type {\n",
       "        vertical-align: middle;\n",
       "    }\n",
       "\n",
       "    .dataframe tbody tr th {\n",
       "        vertical-align: top;\n",
       "    }\n",
       "\n",
       "    .dataframe thead th {\n",
       "        text-align: right;\n",
       "    }\n",
       "</style>\n",
       "<table border=\"1\" class=\"dataframe\">\n",
       "  <thead>\n",
       "    <tr style=\"text-align: right;\">\n",
       "      <th></th>\n",
       "      <th>0</th>\n",
       "      <th>1</th>\n",
       "      <th>2</th>\n",
       "      <th>3</th>\n",
       "      <th>4</th>\n",
       "      <th>5</th>\n",
       "      <th>6</th>\n",
       "      <th>7</th>\n",
       "      <th>8</th>\n",
       "      <th>9</th>\n",
       "    </tr>\n",
       "  </thead>\n",
       "  <tbody>\n",
       "    <tr>\n",
       "      <th>length</th>\n",
       "      <td>1</td>\n",
       "      <td>2</td>\n",
       "      <td>3</td>\n",
       "      <td>4</td>\n",
       "      <td>5</td>\n",
       "      <td>6</td>\n",
       "      <td>7</td>\n",
       "      <td>8</td>\n",
       "      <td>9</td>\n",
       "      <td>10</td>\n",
       "    </tr>\n",
       "    <tr>\n",
       "      <th>price</th>\n",
       "      <td>1</td>\n",
       "      <td>5</td>\n",
       "      <td>8</td>\n",
       "      <td>9</td>\n",
       "      <td>10</td>\n",
       "      <td>17</td>\n",
       "      <td>17</td>\n",
       "      <td>20</td>\n",
       "      <td>24</td>\n",
       "      <td>30</td>\n",
       "    </tr>\n",
       "  </tbody>\n",
       "</table>\n",
       "</div>"
      ],
      "text/plain": [
       "        0  1  2  3   4   5   6   7   8   9\n",
       "length  1  2  3  4   5   6   7   8   9  10\n",
       "price   1  5  8  9  10  17  17  20  24  30"
      ]
     },
     "execution_count": 2,
     "metadata": {},
     "output_type": "execute_result"
    }
   ],
   "source": [
    "import pandas as pd\n",
    "\n",
    "length = list(range(1,11))\n",
    "price  = [1,5,8,9,10,17,17,20,24,30]\n",
    "table = dict(zip(length, price))\n",
    "pd.DataFrame({'length':length, 'price':price}).T"
   ]
  },
  {
   "cell_type": "code",
   "execution_count": 3,
   "metadata": {},
   "outputs": [
    {
     "name": "stdout",
     "output_type": "stream",
     "text": [
      "Top-down:  r[4] = 10\n",
      "Bottom-up: r[4] = 10\n"
     ]
    }
   ],
   "source": [
    "import numpy as np\n",
    "\n",
    "# Top-down with memoization\n",
    "def cutrod_topdown(p, n):\n",
    "    r = [-1]*(n+1)\n",
    "    return cutrod_topdown_r(p, n, r)\n",
    "\n",
    "def cutrod_topdown_r(p, n, r):\n",
    "    if r[n] >= 0: \n",
    "        return r[n]\n",
    "    if n==0:\n",
    "        return 0\n",
    "    else:\n",
    "        q = -1\n",
    "        for i in p.keys():\n",
    "            if i<=n:  q = max(q, p[i]+cutrod_topdown_r(p, n-i, r))\n",
    "        r[n] = q\n",
    "        return q\n",
    "\n",
    "# Bottom-up approach\n",
    "def cutrod_bottomup(p, n):\n",
    "    r = [0] * (n+1)\n",
    "    length = np.array(list(p.keys())).astype(int)\n",
    "    for i in length[length<=n]:\n",
    "        q = p[i]\n",
    "        for j in length[length<i]:\n",
    "            q = max(q, p[j]+r[i-j])\n",
    "        r[i] = q\n",
    "    return r[n]\n",
    "\n",
    "n = 4\n",
    "print( 'Top-down:  r['+format(n)+'] =', cutrod_topdown( table, n) )\n",
    "print( 'Bottom-up: r['+format(n)+'] =', cutrod_bottomup( table, n) )\n"
   ]
  },
  {
   "cell_type": "markdown",
   "metadata": {},
   "source": [
    "**Recursion diagram (subproblem graph)**\n",
    "<img src='./fig1.png'>"
   ]
  },
  {
   "cell_type": "code",
   "execution_count": 4,
   "metadata": {},
   "outputs": [
    {
     "name": "stdout",
     "output_type": "stream",
     "text": [
      "([0, 1, 5, 8, 10, 13, 17, 18, 22, 25, 30], {1: [1], 2: [2], 3: [3], 4: [2, 2], 5: [3, 2], 6: [6], 7: [6, 1], 8: [6, 2], 9: [6, 3], 10: [10]})\n"
     ]
    }
   ],
   "source": [
    "# Return the full solution\n",
    "def cutrod_bottomup_full(p, n):\n",
    "    r = [0] * (n+1)\n",
    "    s = {i:[]  for i in p.keys()}\n",
    "    length = np.array(list(p.keys())).astype(int)\n",
    "    for i in length[length<=n]:\n",
    "        q = p[i]\n",
    "        x = i\n",
    "        for j in length[length<i]:\n",
    "            if (p[j] + r[i-j] > q):\n",
    "                q = p[j]+r[i-j]\n",
    "                x = j            \n",
    "        r[i] = q\n",
    "        if x==i: s[i] = [i]\n",
    "        else:\n",
    "            s[i] = s[i-x] + [x]\n",
    "    return r, s\n",
    "\n",
    "print(cutrod_bottomup_full(table, 10))"
   ]
  },
  {
   "cell_type": "code",
   "execution_count": 5,
   "metadata": {},
   "outputs": [
    {
     "name": "stdout",
     "output_type": "stream",
     "text": [
      "([0, 1, 5, 8, 10, 13, 17, 18, 22, 25, 30], {1: [1], 2: [2], 3: [3], 4: [2, 2], 5: [2, 3], 6: [6], 7: [1, 6], 8: [2, 6], 9: [3, 6], 10: [10]})\n"
     ]
    }
   ],
   "source": [
    "# Return the full solution (less time cost)\n",
    "def cutrod_bottomup_full(p, n):\n",
    "    r = [0] * (n+1)\n",
    "    s = {i:[]  for i in p.keys()}\n",
    "    length = np.array(list(p.keys())).astype(int)\n",
    "    for i in length[length<=n]:\n",
    "        q = p[i]\n",
    "        x = i\n",
    "        for j in length[((i/2)<=length) & (length<i)]:\n",
    "            if (p[j] + r[i-j] > q):\n",
    "                q = r[j]+r[i-j]\n",
    "                x = j            \n",
    "        r[i] = q\n",
    "        if x==i: s[i] = [i]\n",
    "        else:\n",
    "            s[i] = s[i-x] + [x]\n",
    "    return r, s\n",
    "\n",
    "print(cutrod_bottomup_full(table, 10))"
   ]
  },
  {
   "cell_type": "markdown",
   "metadata": {},
   "source": [
    "### Checkerboard problem\n",
    "\n",
    "Given the following triangle, find the path with the largest sum from the top to bottom.\n",
    "\n",
    "$$2$$\n",
    "$$5\\ \\ 4$$\n",
    "$$3\\ \\ 4\\ \\ 7$$\n",
    "$$1\\ \\ 6\\ \\ 9\\ \\ 6$$\n"
   ]
  },
  {
   "cell_type": "code",
   "execution_count": 6,
   "metadata": {},
   "outputs": [
    {
     "data": {
      "text/plain": [
       "22"
      ]
     },
     "execution_count": 6,
     "metadata": {},
     "output_type": "execute_result"
    }
   ],
   "source": [
    "class BTree:\n",
    "    def __init__(self, tri):\n",
    "        self.num = tri[0][0]\n",
    "        if len(tri) == 1:\n",
    "            self.left  = 0\n",
    "            self.right = 0\n",
    "            self.node = 'leaf'\n",
    "        else:\n",
    "            ltri = [t[0:-1] for t in tri[1:]]\n",
    "            rtri = [t[1:]   for t in tri[1:]]\n",
    "            self.node = 'root'\n",
    "            self.left  = BTree(ltri)\n",
    "            self.right = BTree(rtri)\n",
    "        return    \n",
    "\n",
    "# Naive recursion\n",
    "def largestsum(bt):\n",
    "    if bt.node == 'leaf':\n",
    "        return bt.num\n",
    "    else:\n",
    "        return bt.num + max(largestsum(bt.left), largestsum(bt.right))\n",
    "    \n",
    "largestsum(BTree([ [2], [5,4], [3,4,7], [1,6,9,6] ]))"
   ]
  },
  {
   "cell_type": "code",
   "execution_count": 7,
   "metadata": {},
   "outputs": [
    {
     "data": {
      "text/plain": [
       "([[22], [18, 20], [9, 13, 16], [1, 6, 9, 6]],\n",
       " [['R'], ['R', 'R'], ['R', 'R', 'L'], ['', '', '', '']])"
      ]
     },
     "execution_count": 7,
     "metadata": {},
     "output_type": "execute_result"
    }
   ],
   "source": [
    "# Bottom-up approach with the path\n",
    "def largestsum_bottomup(tri):\n",
    "    opt  = [t for t in tri ]\n",
    "    turn = [['']*len(t) for t in tri]\n",
    "    for i in range(len(tri)-2, -1, -1):\n",
    "        for j in range(i+1):\n",
    "            if opt[i+1][j] > opt[i+1][j+1]:\n",
    "                turn[i][j] = 'L'\n",
    "                opt[i][j] += opt[i+1][j]\n",
    "            else:\n",
    "                turn[i][j] = 'R'\n",
    "                opt[i][j] += opt[i+1][j+1]\n",
    "    return opt, turn\n",
    "\n",
    "largestsum_bottomup( [[2], [5,4], [3,4,7], [1,6,9,6]] )"
   ]
  },
  {
   "cell_type": "markdown",
   "metadata": {},
   "source": [
    "### Jobs scheduling problem\n",
    "\n",
    "Given a list of jobs $(S_i, E_i, V_i), i=1,2,...,n$ with the starting times $S_i$, ending times $E_i$, and values $V_i$, how to schedule them (without overlap) to get the largest total value?\n"
   ]
  },
  {
   "cell_type": "code",
   "execution_count": 8,
   "metadata": {},
   "outputs": [
    {
     "data": {
      "text/html": [
       "<div>\n",
       "<style scoped>\n",
       "    .dataframe tbody tr th:only-of-type {\n",
       "        vertical-align: middle;\n",
       "    }\n",
       "\n",
       "    .dataframe tbody tr th {\n",
       "        vertical-align: top;\n",
       "    }\n",
       "\n",
       "    .dataframe thead th {\n",
       "        text-align: right;\n",
       "    }\n",
       "</style>\n",
       "<table border=\"1\" class=\"dataframe\">\n",
       "  <thead>\n",
       "    <tr style=\"text-align: right;\">\n",
       "      <th></th>\n",
       "      <th>S</th>\n",
       "      <th>E</th>\n",
       "      <th>V</th>\n",
       "    </tr>\n",
       "  </thead>\n",
       "  <tbody>\n",
       "    <tr>\n",
       "      <th>0</th>\n",
       "      <td>0.314218</td>\n",
       "      <td>0.793067</td>\n",
       "      <td>84</td>\n",
       "    </tr>\n",
       "    <tr>\n",
       "      <th>1</th>\n",
       "      <td>0.091415</td>\n",
       "      <td>0.463067</td>\n",
       "      <td>62</td>\n",
       "    </tr>\n",
       "    <tr>\n",
       "      <th>2</th>\n",
       "      <td>0.740251</td>\n",
       "      <td>0.868208</td>\n",
       "      <td>94</td>\n",
       "    </tr>\n",
       "    <tr>\n",
       "      <th>3</th>\n",
       "      <td>0.517169</td>\n",
       "      <td>0.647762</td>\n",
       "      <td>25</td>\n",
       "    </tr>\n",
       "    <tr>\n",
       "      <th>4</th>\n",
       "      <td>0.637331</td>\n",
       "      <td>0.738314</td>\n",
       "      <td>7</td>\n",
       "    </tr>\n",
       "    <tr>\n",
       "      <th>5</th>\n",
       "      <td>0.018968</td>\n",
       "      <td>0.983986</td>\n",
       "      <td>5</td>\n",
       "    </tr>\n",
       "    <tr>\n",
       "      <th>6</th>\n",
       "      <td>0.420860</td>\n",
       "      <td>0.953489</td>\n",
       "      <td>30</td>\n",
       "    </tr>\n",
       "    <tr>\n",
       "      <th>7</th>\n",
       "      <td>0.949254</td>\n",
       "      <td>0.980075</td>\n",
       "      <td>22</td>\n",
       "    </tr>\n",
       "    <tr>\n",
       "      <th>8</th>\n",
       "      <td>0.247349</td>\n",
       "      <td>0.601177</td>\n",
       "      <td>98</td>\n",
       "    </tr>\n",
       "    <tr>\n",
       "      <th>9</th>\n",
       "      <td>0.647384</td>\n",
       "      <td>0.915254</td>\n",
       "      <td>25</td>\n",
       "    </tr>\n",
       "  </tbody>\n",
       "</table>\n",
       "</div>"
      ],
      "text/plain": [
       "          S         E   V\n",
       "0  0.314218  0.793067  84\n",
       "1  0.091415  0.463067  62\n",
       "2  0.740251  0.868208  94\n",
       "3  0.517169  0.647762  25\n",
       "4  0.637331  0.738314   7\n",
       "5  0.018968  0.983986   5\n",
       "6  0.420860  0.953489  30\n",
       "7  0.949254  0.980075  22\n",
       "8  0.247349  0.601177  98\n",
       "9  0.647384  0.915254  25"
      ]
     },
     "execution_count": 8,
     "metadata": {},
     "output_type": "execute_result"
    }
   ],
   "source": [
    "import numpy as np\n",
    "\n",
    "def jobs_random(n=10):\n",
    "    jobs = {'S':[], 'E':[], 'V':[]}\n",
    "    for i in range(n):\n",
    "        jobs['S'].append( np.random.uniform(low=0, high=1) )\n",
    "        jobs['E'].append( np.random.uniform(low=jobs['S'][-1], high=1) )\n",
    "        jobs['V'].append( int(np.random.uniform(low=1, high=100)) )\n",
    "    return jobs\n",
    "\n",
    "jobs = pd.DataFrame( jobs_random(n=10), columns=['S', 'E', 'V'] )\n",
    "jobs"
   ]
  },
  {
   "cell_type": "code",
   "execution_count": 9,
   "metadata": {},
   "outputs": [
    {
     "data": {
      "image/png": "[encoded data removed]",
      "text/plain": [
       "<matplotlib.figure.Figure at 0x7f0cb0926940>"
      ]
     },
     "metadata": {},
     "output_type": "display_data"
    }
   ],
   "source": [
    "import matplotlib\n",
    "%matplotlib inline\n",
    "import matplotlib.pyplot as plt\n",
    "\n",
    "plt.figure(figsize=(14,6))\n",
    "for i in range(10):\n",
    "    plt.plot([jobs['S'][i], jobs['E'][i]], [i, i], lw=30.0*jobs['V'][i]/100)\n",
    "plt.xlim([0,1])\n",
    "plt.show()"
   ]
  },
  {
   "cell_type": "code",
   "execution_count": 10,
   "metadata": {},
   "outputs": [
    {
     "name": "stdout",
     "output_type": "stream",
     "text": [
      "7 [1, 8, 0, 3, 4, 9, 2]\n",
      "2 [1, 8, 3, 4]\n",
      "9 [1, 8]\n",
      "4 [1, 8]\n",
      "3 [1]\n",
      "6 []\n",
      "0 []\n",
      "8 []\n",
      "1 []\n",
      "5 []\n",
      "optimization:  [ 84.  62. 199.  87. 105.   5.  30. 221.  98. 123.]\n",
      "opt. chain:  {0: [], 1: [], 2: [4], 3: [1], 4: [8], 5: [], 6: [], 7: [2], 8: [], 9: [8]}\n",
      "[8, 4, 2, 7] 221\n"
     ]
    }
   ],
   "source": [
    "# bottom-up approach\n",
    "def jobschedule_bottomup(jobs):\n",
    "    n = len(jobs)\n",
    "\n",
    "    # 1. Decomposite: establish the recursive table\n",
    "    sid = list(jobs.sort_values(['S']).index)\n",
    "    rt  = {i:[]  for i in range(n)}\n",
    "    opt = np.zeros([n])\n",
    "    chain = {i:[]  for i in range(n)}\n",
    "    for i in range(n-1,-1,-1):\n",
    "        for j in range(i):\n",
    "            if jobs['S'][sid[i]] >= jobs['E'][sid[j]]:\n",
    "                rt[sid[i]].append(sid[j])\n",
    "        print(sid[i], rt[sid[i]])\n",
    "    \n",
    "    # 2. Bottom-up loop\n",
    "    for i in range(n):\n",
    "        if len(rt[sid[i]]) == 0:\n",
    "            opt[sid[i]] = jobs['V'][sid[i]]\n",
    "        else:\n",
    "            k = np.argmax(opt[rt[sid[i]]])\n",
    "            opt[sid[i]] = jobs['V'][sid[i]] + opt[rt[sid[i]]][k]\n",
    "            chain[sid[i]].append(rt[sid[i]][k])\n",
    "    bs = [np.argmax(opt)]\n",
    "    while(len(chain[bs[-1]]) > 0):\n",
    "        bs.append(chain[bs[-1]][0])\n",
    "    print('optimization: ', opt)\n",
    "    print('opt. chain: ', chain )\n",
    "    return bs[::-1], sum(jobs['V'][bs])\n",
    "\n",
    "bs, bv = jobschedule_bottomup(jobs)\n",
    "print(bs, bv)"
   ]
  },
  {
   "cell_type": "code",
   "execution_count": 11,
   "metadata": {},
   "outputs": [
    {
     "data": {
      "image/png": "[encoded data removed]",
      "text/plain": [
       "<matplotlib.figure.Figure at 0x7f0ca6660860>"
      ]
     },
     "metadata": {},
     "output_type": "display_data"
    }
   ],
   "source": [
    "plt.figure(figsize=(14,6))\n",
    "for i in range(10):\n",
    "    if i in bs: c='r'\n",
    "    else: c = 'g'\n",
    "    plt.plot([jobs['S'][i], jobs['E'][i]], [i, i], lw=30.0*jobs['V'][i]/100, c=c)\n",
    "plt.xlim([0,1])\n",
    "plt.show()"
   ]
  },
  {
   "cell_type": "markdown",
   "metadata": {},
   "source": [
    "### Shrowing dice\n",
    "\n",
    "There are different versions for this question: Given a dice with m surfaces (values are $V_i, i=1,2,...,m$),\n",
    "\n",
    "**Version 1: Toss it n times, get the number of ways that makes the total value being X.**\n",
    "\n",
    "Solution: \n",
    "\n",
    "Let the solution is $S(m,n,X)$, then we can establish the recursive equation: \n",
    "\n",
    "$$ S(m,n,X) = \\sum{S(m,n-1,X-V_i)} = S(m,n-1,X-V_1) + S(m,n-1,X-V_2) + ... + S(m,n-1,X-V_m) $$\n",
    "\n",
    "The above resursion exhibits overlapped subproblems, as shown by the following figure:\n",
    "\n",
    "<img src='fig2.png'>\n"
   ]
  },
  {
   "cell_type": "code",
   "execution_count": 12,
   "metadata": {},
   "outputs": [
    {
     "data": {
      "text/plain": [
       "(array([[  1,   1,   1,   1,   1,   1, -99, -99, -99, -99],\n",
       "        [  0,   1,   2,   3,   4,   5,   6, -99, -99, -99],\n",
       "        [  0,   0,   1,   3,   6,  10,  15,  21, -99, -99],\n",
       "        [-99, -99, -99,   1,   4,  10,  20,  35,  56, -99],\n",
       "        [-99, -99, -99, -99, -99, -99, -99, -99, -99, 126]]), 126)"
      ]
     },
     "execution_count": 12,
     "metadata": {},
     "output_type": "execute_result"
    }
   ],
   "source": [
    "# Top-down approach: recursion with memoization\n",
    "\n",
    "def ways(v, n, x):\n",
    "    m = len(v)\n",
    "    s = np.zeros([n, x]).astype(int) - 99\n",
    "    return s, ways_r(v, m, n, x, s)\n",
    "\n",
    "def ways_r(v, m, n, x, s):\n",
    "    if x > 0:\n",
    "        if (x > max(v)*n) or (x < min(v)*n): \n",
    "            s[n-1, x-1] = 0\n",
    "            return 0\n",
    "        if n == 1:\n",
    "            s[n-1, x-1] = 1\n",
    "            return 1\n",
    "        else:\n",
    "            if s[n-1, x-1] < 0:\n",
    "                s[n-1, x-1] = 0\n",
    "                for i in v:\n",
    "                    s[n-1, x-1] += ways_r(v, m, n-1, x-i, s)\n",
    "            return s[n-1, x-1]\n",
    "    else:\n",
    "        return 0\n",
    "    \n",
    "ways([1,2,3,4,5,6], 5, 10)"
   ]
  },
  {
   "cell_type": "code",
   "execution_count": 13,
   "metadata": {},
   "outputs": [
    {
     "data": {
      "text/plain": [
       "(array([[  1,   1,   1,   1,   1,   1, -99, -99, -99, -99],\n",
       "        [-99,   1,   2,   3,   4,   5,   6, -99, -99, -99],\n",
       "        [-99, -99,   1,   3,   6,  10,  15,  21, -99, -99],\n",
       "        [-99, -99, -99,   1,   4,  10,  20,  35,  56, -99],\n",
       "        [-99, -99, -99, -99,   1,   5,  15,  35,  70, 126]]), 126)"
      ]
     },
     "execution_count": 13,
     "metadata": {},
     "output_type": "execute_result"
    }
   ],
   "source": [
    "# Bottom-up approach: ordinary loops\n",
    "\n",
    "def ways_bottomup(v, n, x):\n",
    "    m = len(v)\n",
    "    s = np.zeros([n, x]).astype(int) - 99\n",
    "    for i in v:   s[0, i-1] = 1\n",
    "    jmin = min(v)-1; jmax = max(v)-1\n",
    "    for i in range(1,n):\n",
    "        jmin = min( jmin + min(v), x-1)\n",
    "        jmax = min( max(min( jmax + max(v), x-1-min(v)*(n-i-1) ), jmin+1), x-1)\n",
    "        for j in range(jmin, jmax+1):\n",
    "            s[i,j] = 0\n",
    "            for k in v:\n",
    "                if (j-k >= 0) and (s[i-1,j-k]>0): s[i,j] += s[i-1, j-k]\n",
    "    return s, s[n-1, x-1]\n",
    "\n",
    "ways_bottomup([1,2,3,4,5,6], 5, 10)"
   ]
  },
  {
   "cell_type": "markdown",
   "metadata": {},
   "source": [
    "**Version 2: Toss it N times, get the pdf of the total (or averaged) value X. (Multinomial distribution)**"
   ]
  },
  {
   "cell_type": "code",
   "execution_count": 14,
   "metadata": {},
   "outputs": [
    {
     "name": "stdout",
     "output_type": "stream",
     "text": [
      "1 0.9999999999999999\n",
      "2 1.0000000000000002\n",
      "3 0.9999999999999999\n",
      "10 0.9999999999999997\n",
      "30 0.9999999999999988\n"
     ]
    },
    {
     "name": "stderr",
     "output_type": "stream",
     "text": [
      "/home/oscar/anaconda3/lib/python3.6/site-packages/matplotlib/cbook/deprecation.py:106: MatplotlibDeprecationWarning: Adding an axes using the same arguments as a previous axes currently reuses the earlier instance.  In a future version, a new instance will always be created and returned.  Meanwhile, this warning can be suppressed, and the future behavior ensured, by passing a unique label to each axes instance.\n",
      "  warnings.warn(message, mplDeprecation, stacklevel=1)\n"
     ]
    },
    {
     "name": "stdout",
     "output_type": "stream",
     "text": [
      "100 0.9999999999999942\n",
      "300 0.9999999999999816\n"
     ]
    },
    {
     "data": {
      "image/png": "[encoded data removed]",
      "text/plain": [
       "<matplotlib.figure.Figure at 0x7f0ca65e91d0>"
      ]
     },
     "metadata": {},
     "output_type": "display_data"
    }
   ],
   "source": [
    "# Bottom-up approach: ordinary loops\n",
    "def pdfx(v, p, n):\n",
    "    pdict = dict(zip(v, p))\n",
    "    m = len(v)\n",
    "    xmin = min(v) * n\n",
    "    xmax = max(v) * n\n",
    "    s = np.zeros([n, xmax])\n",
    "    for i in v:   s[0, i-1] = pdict[i]\n",
    "    jmin = min(v)-1; jmax = max(v)-1\n",
    "    for i in range(1,n):\n",
    "        jmin = min( jmin + min(v), xmax-1)\n",
    "        jmax = max( min(jmax + max(v), xmax-1), jmin+1)\n",
    "        for j in range(jmin, jmax+1):\n",
    "            s[i,j] = 0\n",
    "            for k in v:\n",
    "                if (j-k >= 0) and (s[i-1,j-k]>0): s[i,j] += s[i-1, j-k]*pdict[k]\n",
    "    return np.arange(xmin, xmax+1), s[n-1, (xmin-1):]\n",
    "\n",
    "plt.figure(figsize=(12,8))\n",
    "for n in [1,2,3,10,30,100,300]:\n",
    "    x, p = pdfx([1,2,3,4,5,6], [1.0/6]*6, n)\n",
    "    print(n, sum(p))\n",
    "    plt.subplot(2,1,1)\n",
    "    plt.bar(x/n, p, width=0.8/n)\n",
    "\n",
    "    plt.subplot(2,1,2)\n",
    "    plt.plot(x/n, p*n)\n",
    "    \n",
    "plt.tight_layout()\n"
   ]
  },
  {
   "cell_type": "code",
   "execution_count": 15,
   "metadata": {},
   "outputs": [
    {
     "name": "stdout",
     "output_type": "stream",
     "text": [
      "1 1.0\n",
      "2 1.0\n",
      "3 1.0\n",
      "10 1.0\n",
      "30 0.9999999999999994\n"
     ]
    },
    {
     "name": "stderr",
     "output_type": "stream",
     "text": [
      "/home/oscar/anaconda3/lib/python3.6/site-packages/matplotlib/cbook/deprecation.py:106: MatplotlibDeprecationWarning: Adding an axes using the same arguments as a previous axes currently reuses the earlier instance.  In a future version, a new instance will always be created and returned.  Meanwhile, this warning can be suppressed, and the future behavior ensured, by passing a unique label to each axes instance.\n",
      "  warnings.warn(message, mplDeprecation, stacklevel=1)\n"
     ]
    },
    {
     "name": "stdout",
     "output_type": "stream",
     "text": [
      "100 0.9999999999999998\n",
      "300 0.999999999999998\n"
     ]
    },
    {
     "data": {
      "image/png": "[encoded data removed]",
      "text/plain": [
       "<matplotlib.figure.Figure at 0x7f0ca64d1ef0>"
      ]
     },
     "metadata": {},
     "output_type": "display_data"
    }
   ],
   "source": [
    "plt.figure(figsize=(12,8))\n",
    "for n in [1,2,3,10,30,100,300]:\n",
    "    x, p = pdfx([2,4,9,12], [1.0/4]*4, n)\n",
    "    print(n, sum(p))\n",
    "    plt.subplot(2,1,1)\n",
    "    plt.bar(x/n, p, width=0.8/n)\n",
    "\n",
    "    plt.subplot(2,1,2)\n",
    "    plt.plot(x/n, p*n)\n",
    "    \n",
    "plt.tight_layout()\n"
   ]
  },
  {
   "cell_type": "markdown",
   "metadata": {},
   "source": [
    "**Version 3: Toss it until the total value reach (larger than or equal to) X, get the PDF of the toss times N and result total value Y**"
   ]
  },
  {
   "cell_type": "code",
   "execution_count": 16,
   "metadata": {},
   "outputs": [
    {
     "name": "stdout",
     "output_type": "stream",
     "text": [
      "0.9999999999999997 0.9999999999999999\n"
     ]
    },
    {
     "data": {
      "image/png": "[encoded data removed]",
      "text/plain": [
       "<matplotlib.figure.Figure at 0x7f0ca64c9e80>"
      ]
     },
     "metadata": {},
     "output_type": "display_data"
    }
   ],
   "source": [
    "# Bottom-up approach: ordinary loops\n",
    "import math\n",
    "\n",
    "def pdfny(v, p, x):\n",
    "    pdict = dict(zip(v, p))\n",
    "    m = len(v)\n",
    "    n = math.ceil( x/min(v) )\n",
    "    s = pdfxmax(v, p, n, x+max(v))\n",
    "    py = {x+i:0 for i in range(max(v))}\n",
    "    pn  = {i+1:0 for i in range(n)}\n",
    "    for y in py.keys():\n",
    "        for i in range(n):\n",
    "            if i==0:\n",
    "                pn[i+1] += s[i,y-1]\n",
    "                py[y] += s[i,y-1]\n",
    "            else:\n",
    "                tmp = 0\n",
    "                for k in v:\n",
    "                    if ((y-1-k) >= 0) and (y-k<x):\n",
    "                        tmp += s[i-1, y-1-k ] * pdict[k]\n",
    "                pn[i+1] += tmp\n",
    "                py[y] += tmp\n",
    "    return pn, py\n",
    "\n",
    "def pdfxmax(v, p, n, x):\n",
    "    pdict = dict(zip(v, p))\n",
    "    m = len(v)\n",
    "    xmax = min(x, max(v)*n)\n",
    "    s = np.zeros([n, xmax])\n",
    "    for i in v:   s[0, i-1] = pdict[i]\n",
    "    jmin = min(v)-1; jmax = max(v)-1\n",
    "    for i in range(1,n):\n",
    "        jmin = min( jmin + min(v), xmax-1)\n",
    "        jmax = max( min(jmax + max(v), xmax-1), jmin+1)\n",
    "        for j in range(jmin, jmax+1):\n",
    "            s[i,j] = 0\n",
    "            for k in v:\n",
    "                if (j-k >= 0) and (s[i-1,j-k]>0): s[i,j] += s[i-1, j-k]*pdict[k]\n",
    "    return s\n",
    "\n",
    "#pn, py = pdfny([1,2,3,4,5,6], [1.0/6]*6, 21)\n",
    "pn, py = pdfny([1,2,4,8,16,32], [1.0/6]*6, 21)\n",
    "print(sum(pn.values()),  sum(py.values()))\n",
    "\n",
    "plt.figure(figsize=(14, 4))\n",
    "plt.subplot(1,2,1)\n",
    "plt.bar(pn.keys(), pn.values())\n",
    "plt.subplot(1,2,2)\n",
    "plt.bar(py.keys(), py.values())\n",
    "plt.tight_layout()"
   ]
  },
  {
   "cell_type": "markdown",
   "metadata": {},
   "source": [
    "### 0-1 Knapsack problem\n",
    "\n",
    "Given n items with weights and values, put them into a knapsack with weight capacity W, find the combination of these items to get the maximum total value in the knapsack. Mathematically, it is described as:\n",
    "\n",
    "$$ Maximize \\sum{ v_i x_i } $$\n",
    "\n",
    "$$ Subject \\ to \\sum{w_i x_i} \\leq W, \\ where \\ x_i \\in \\{0,1\\} $$\n",
    "\n"
   ]
  },
  {
   "cell_type": "code",
   "execution_count": 83,
   "metadata": {
    "scrolled": false
   },
   "outputs": [
    {
     "name": "stdout",
     "output_type": "stream",
     "text": [
      "[9 3 8 9] [62.99338602 35.889933    2.66487626 74.32279995]\n",
      "[[  0.           0.           0.           0.        ]\n",
      " [  0.           0.           0.           0.        ]\n",
      " [  0.           0.           0.           0.        ]\n",
      " [  0.          35.889933    35.889933    35.889933  ]\n",
      " [  0.          35.889933    35.889933    35.889933  ]\n",
      " [  0.          35.889933    35.889933    35.889933  ]\n",
      " [  0.          35.889933    35.889933    35.889933  ]\n",
      " [  0.          35.889933    35.889933    35.889933  ]\n",
      " [  0.          35.889933    35.889933    35.889933  ]\n",
      " [ 62.99338602  62.99338602  62.99338602  74.32279995]\n",
      " [ 62.99338602  62.99338602  62.99338602  74.32279995]\n",
      " [ 62.99338602  62.99338602  62.99338602  74.32279995]\n",
      " [ 62.99338602  98.88331902  98.88331902 110.21273294]\n",
      " [ 62.99338602  98.88331902  98.88331902 110.21273294]\n",
      " [ 62.99338602  98.88331902  98.88331902 110.21273294]\n",
      " [ 62.99338602  98.88331902  98.88331902 110.21273294]]\n",
      "[[0 0 0 0]\n",
      " [0 0 0 0]\n",
      " [0 0 0 0]\n",
      " [0 1 0 0]\n",
      " [0 1 0 0]\n",
      " [0 1 0 0]\n",
      " [0 1 0 0]\n",
      " [0 1 0 0]\n",
      " [0 1 0 0]\n",
      " [0 0 0 1]\n",
      " [0 0 0 1]\n",
      " [0 0 0 1]\n",
      " [0 1 0 1]\n",
      " [0 1 0 1]\n",
      " [0 1 0 1]\n",
      " [0 1 0 1]]\n"
     ]
    }
   ],
   "source": [
    "# Bottom-up approach\n",
    "\n",
    "def knapsack_bottomup(w, v, cap):\n",
    "    cap = int(cap)\n",
    "    n = len(w)\n",
    "    opt = np.zeros([n, cap+1])\n",
    "    cid = np.zeros([n, cap+1, n]).astype(int)\n",
    "    opt[0, w[0]:] = v[0]\n",
    "    cid[0, w[0]:, 0] = 1\n",
    "    for i in range(1,n):\n",
    "        for j in range(1, cap+1):\n",
    "            if j < w[i]:\n",
    "                opt[i, j] = opt[i-1, j]\n",
    "                cid[i, j, :] = cid[i-1, j, :]\n",
    "            else:\n",
    "                if opt[i-1, j] >= v[i]+opt[i-1, j-w[i]]:\n",
    "                    opt[i, j] = opt[i-1, j]\n",
    "                    cid[i, j, :] = cid[i-1, j, :]\n",
    "                else:\n",
    "                    opt[i, j] = v[i]+opt[i-1, j-w[i]]\n",
    "                    cid[i, j, :] = cid[i-1, j-w[i]] + 0\n",
    "                    cid[i, j, i] = 1\n",
    "    return opt, cid\n",
    "\n",
    "w = np.random.uniform(low=1, high=10, size=4).astype(int)\n",
    "v = np.random.uniform(low=0, high=100, size=4)\n",
    "print(w, v)\n",
    "opt, cid = knapsack_bottomup(w, v, 15)\n",
    "print(opt.T)\n",
    "print(cid[-1,:,:])"
   ]
  },
  {
   "cell_type": "code",
   "execution_count": 84,
   "metadata": {},
   "outputs": [
    {
     "name": "stdout",
     "output_type": "stream",
     "text": [
      "[9 3 8 9] 15\n",
      "[9 3 8] 15\n",
      "[9 3] 15\n",
      "[9] 15\n",
      "[9] 12\n",
      "[9 3] 7\n",
      "[9] 7\n",
      "[9] 4\n",
      "[9 3 8] 6\n",
      "[9 3] 6\n",
      "[9] 6\n",
      "[9] 3\n",
      "[[-99.         -99.         -99.         -99.        ]\n",
      " [-99.         -99.         -99.         -99.        ]\n",
      " [-99.         -99.         -99.         -99.        ]\n",
      " [  0.         -99.         -99.         -99.        ]\n",
      " [  0.         -99.         -99.         -99.        ]\n",
      " [-99.         -99.         -99.         -99.        ]\n",
      " [  0.          35.889933    35.889933   -99.        ]\n",
      " [  0.          35.889933   -99.         -99.        ]\n",
      " [-99.         -99.         -99.         -99.        ]\n",
      " [-99.         -99.         -99.         -99.        ]\n",
      " [-99.         -99.         -99.         -99.        ]\n",
      " [-99.         -99.         -99.         -99.        ]\n",
      " [ 62.99338602 -99.         -99.         -99.        ]\n",
      " [-99.         -99.         -99.         -99.        ]\n",
      " [-99.         -99.         -99.         -99.        ]\n",
      " [ 62.99338602  98.88331902  98.88331902 110.21273294]]\n",
      "[[0 0 0 0]\n",
      " [0 0 0 0]\n",
      " [0 0 0 0]\n",
      " [0 0 0 0]\n",
      " [0 0 0 0]\n",
      " [0 0 0 0]\n",
      " [0 0 0 0]\n",
      " [0 0 0 0]\n",
      " [0 0 0 0]\n",
      " [0 0 0 0]\n",
      " [0 0 0 0]\n",
      " [0 0 0 0]\n",
      " [0 0 0 0]\n",
      " [0 0 0 0]\n",
      " [0 0 0 0]\n",
      " [0 1 0 1]]\n"
     ]
    }
   ],
   "source": [
    "# Top-down approach\n",
    "\n",
    "def knapsack_topdown(w, v, cap):\n",
    "    cap = int(cap)\n",
    "    n = len(w)\n",
    "    opt = np.zeros([n, cap+1]) - 99\n",
    "    cid = np.zeros([n, cap+1, n]).astype(int)\n",
    "    totalvalue = knapsack_topdown_r(w, v, cap, opt, cid)\n",
    "    return opt, cid\n",
    "\n",
    "def knapsack_topdown_r(w, v, cap, opt, cid):\n",
    "    print(w, cap)\n",
    "    if len(w) == 1:\n",
    "        if cap < w[0]:\n",
    "            opt[0, cap] = 0\n",
    "            cid[0, cap, 0] = 0\n",
    "            return 0\n",
    "        else:\n",
    "            opt[0, cap] = v[0]\n",
    "            cid[0, cap, 0] = 1\n",
    "            return v[0]\n",
    "    else:\n",
    "        if opt[len(w)-2, cap] < 0:\n",
    "            s0 = knapsack_topdown_r(w[0:-1], v[0:-1], cap, opt, cid)\n",
    "        else:\n",
    "            s0 = opt[len(w)-2, cap]\n",
    "        \n",
    "        if cap < w[-1]:\n",
    "            opt[len(w)-1, cap] = s0\n",
    "            cid[len(w)-1, cap, :] = cid[len(w)-2, cap, :] \n",
    "        else:\n",
    "            if opt[len(w)-2, cap-w[-1]] < 0:\n",
    "                s1 = knapsack_topdown_r(w[0:-1], v[0:-1], cap-w[-1], opt, cid) + v[-1]\n",
    "            else:\n",
    "                s1 = opt[len(w)-2, cap-w[-1]] + v[-1]\n",
    "\n",
    "            if s0 >= s1:\n",
    "                opt[len(w)-1, cap] = s0\n",
    "                cid[len(w)-1, cap, :] = cid[len(w)-2, cap, :]\n",
    "            else:\n",
    "                opt[len(w)-1, cap] = s1\n",
    "                cid[len(w)-1, cap, :] = cid[len(w)-2, cap-w[-1], :] + 0\n",
    "                cid[len(w)-1, cap, len(w)-1] = 1\n",
    "        return opt[len(w)-1, cap]\n",
    "\n",
    "opt, cid = knapsack_topdown(w, v, 15)\n",
    "print(opt.T)\n",
    "print(cid[-1,:,:])"
   ]
  },
  {
   "cell_type": "code",
   "execution_count": null,
   "metadata": {},
   "outputs": [],
   "source": []
  }
 ],
 "metadata": {
  "kernelspec": {
   "display_name": "Python 3",
   "language": "python",
   "name": "python3"
  },
  "language_info": {
   "codemirror_mode": {
    "name": "ipython",
    "version": 3
   },
   "file_extension": ".py",
   "mimetype": "text/x-python",
   "name": "python",
   "nbconvert_exporter": "python",
   "pygments_lexer": "ipython3",
   "version": "3.6.4"
  }
 },
 "nbformat": 4,
 "nbformat_minor": 2
}
